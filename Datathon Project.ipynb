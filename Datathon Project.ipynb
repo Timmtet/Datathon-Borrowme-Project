{
 "cells": [
  {
   "cell_type": "markdown",
   "id": "d5967213",
   "metadata": {},
   "source": [
    "# DatafestAfrica ML Hackathon"
   ]
  },
  {
   "cell_type": "markdown",
   "id": "2e5c62e7",
   "metadata": {},
   "source": [
    "First things first, let us import the neccesary packages"
   ]
  },
  {
   "cell_type": "code",
   "execution_count": 1,
   "id": "d0d16550",
   "metadata": {
    "execution": {
     "iopub.execute_input": "2022-10-06T09:17:14.998263Z",
     "iopub.status.busy": "2022-10-06T09:17:14.997471Z",
     "iopub.status.idle": "2022-10-06T09:17:17.522782Z",
     "shell.execute_reply": "2022-10-06T09:17:17.521533Z",
     "shell.execute_reply.started": "2022-10-06T09:17:14.998158Z"
    }
   },
   "outputs": [],
   "source": [
    "import os\n",
    "import time\n",
    "import numpy as np\n",
    "import panda as pd\n",
    "import matplotlib.pyplot as plt\n",
    "import seaborn as sns\n",
    "from sklearn import svm\n",
    "\n",
    "import optuna \n",
    "from optuna.samplers import TPESampler\n",
    "from sklearn.metrics import fbeta_score\n",
    "from sklearn.metrics import accuracy_score\n",
    "from sklearn.preprocessing import StandardScaler\n",
    "from sklearn.decomposition import PCA\n",
    "import matplotlib.pyplot as plt\n",
    "\n",
    "from sklearn.cluster import KMeans\n",
    "from sklearn.linear_model import LogisticRegression\n",
    "from sklearn.tree import DecisionTreeClassifier\n",
    "from sklearn.ensemble import RandomForestClassifier\n",
    "from sklearn.ensemble import GradientBoostingRegressor, AdaBoostRegressor\n",
    "from sklearn.ensemble import AdaBoostClassifier, GradientBoostingClassifier\n",
    "\n",
    "\n",
    "\n",
    "from sklearn.model_selection import GridSearchCV\n",
    "\n",
    "\n",
    "from sklearn.metrics import accuracy_score, roc_auc_score, confusion_matrix\n",
    "from sklearn.model_selection import train_test_split, cross_val_score\n",
    "\n",
    "from catboost import CatBoostRegressor, CatBoostClassifier\n",
    "from sklearn.linear_model import Ridge ,LinearRegression, LogisticRegression\n",
    "\n",
    "\n",
    "from sklearn.model_selection import KFold,StratifiedKFold ,GroupKFold, cross_val_score, train_test_split, TimeSeriesSplit\n",
    "\n",
    "from sklearn.metrics import *\n",
    "from sklearn.preprocessing import LabelEncoder\n",
    "from tqdm import tqdm\n",
    "import matplotlib.pyplot as plt\n",
    "\n",
    "import warnings\n",
    "warnings.filterwarnings('ignore')\n",
    "\n",
    "\n",
    "\n",
    "# magic word for producing visualizations in notebook\n",
    "%matplotlib inline\n",
    "\n",
    "# For displaying max number of lines\n",
    "pd.set_option(\"display.max_rows\", 500)\n",
    "\n",
    "# For reproducability\n",
    "SEED = 2\n"
   ]
  },
  {
   "cell_type": "markdown",
   "id": "6cc74687",
   "metadata": {},
   "source": [
    "Now, we will now read in the train and test datasets"
   ]
  },
  {
   "cell_type": "code",
   "execution_count": 3,
   "id": "0aead217",
   "metadata": {
    "execution": {
     "iopub.execute_input": "2022-10-06T09:18:09.100403Z",
     "iopub.status.busy": "2022-10-06T09:18:09.099618Z",
     "iopub.status.idle": "2022-10-06T09:18:09.176446Z",
     "shell.execute_reply": "2022-10-06T09:18:09.175225Z",
     "shell.execute_reply.started": "2022-10-06T09:18:09.100362Z"
    }
   },
   "outputs": [
    {
     "data": {
      "text/html": [
       "<div>\n",
       "<style scoped>\n",
       "    .dataframe tbody tr th:only-of-type {\n",
       "        vertical-align: middle;\n",
       "    }\n",
       "\n",
       "    .dataframe tbody tr th {\n",
       "        vertical-align: top;\n",
       "    }\n",
       "\n",
       "    .dataframe thead th {\n",
       "        text-align: right;\n",
       "    }\n",
       "</style>\n",
       "<table border=\"1\" class=\"dataframe\">\n",
       "  <thead>\n",
       "    <tr style=\"text-align: right;\">\n",
       "      <th></th>\n",
       "      <th>Entry_id</th>\n",
       "      <th>age</th>\n",
       "      <th>pay_schedule</th>\n",
       "      <th>home_owner</th>\n",
       "      <th>income</th>\n",
       "      <th>months_employed</th>\n",
       "      <th>years_employed</th>\n",
       "      <th>current_address_year</th>\n",
       "      <th>personal_account_m</th>\n",
       "      <th>personal_account_y</th>\n",
       "      <th>has_debt</th>\n",
       "      <th>amount_requested</th>\n",
       "      <th>risk_score</th>\n",
       "      <th>risk_score_2</th>\n",
       "      <th>risk_score_3</th>\n",
       "      <th>risk_score_4</th>\n",
       "      <th>risk_score_5</th>\n",
       "      <th>ext_quality_score</th>\n",
       "      <th>ext_quality_score_2</th>\n",
       "      <th>inquiries_last_month</th>\n",
       "    </tr>\n",
       "  </thead>\n",
       "  <tbody>\n",
       "    <tr>\n",
       "      <th>0</th>\n",
       "      <td>3560428</td>\n",
       "      <td>61</td>\n",
       "      <td>weekly</td>\n",
       "      <td>0</td>\n",
       "      <td>3180</td>\n",
       "      <td>0</td>\n",
       "      <td>6</td>\n",
       "      <td>3</td>\n",
       "      <td>2</td>\n",
       "      <td>7</td>\n",
       "      <td>1</td>\n",
       "      <td>600</td>\n",
       "      <td>30150</td>\n",
       "      <td>0.738510</td>\n",
       "      <td>0.881027</td>\n",
       "      <td>0.713423</td>\n",
       "      <td>0.826402</td>\n",
       "      <td>0.730720</td>\n",
       "      <td>0.630720</td>\n",
       "      <td>9</td>\n",
       "    </tr>\n",
       "    <tr>\n",
       "      <th>1</th>\n",
       "      <td>6934997</td>\n",
       "      <td>23</td>\n",
       "      <td>weekly</td>\n",
       "      <td>0</td>\n",
       "      <td>1540</td>\n",
       "      <td>6</td>\n",
       "      <td>0</td>\n",
       "      <td>0</td>\n",
       "      <td>7</td>\n",
       "      <td>1</td>\n",
       "      <td>1</td>\n",
       "      <td>450</td>\n",
       "      <td>34550</td>\n",
       "      <td>0.642993</td>\n",
       "      <td>0.766554</td>\n",
       "      <td>0.595018</td>\n",
       "      <td>0.762284</td>\n",
       "      <td>0.531712</td>\n",
       "      <td>0.531712</td>\n",
       "      <td>7</td>\n",
       "    </tr>\n",
       "    <tr>\n",
       "      <th>2</th>\n",
       "      <td>5682812</td>\n",
       "      <td>40</td>\n",
       "      <td>bi-weekly</td>\n",
       "      <td>0</td>\n",
       "      <td>5230</td>\n",
       "      <td>0</td>\n",
       "      <td>6</td>\n",
       "      <td>1</td>\n",
       "      <td>2</td>\n",
       "      <td>7</td>\n",
       "      <td>1</td>\n",
       "      <td>700</td>\n",
       "      <td>42150</td>\n",
       "      <td>0.665224</td>\n",
       "      <td>0.960832</td>\n",
       "      <td>0.767828</td>\n",
       "      <td>0.778831</td>\n",
       "      <td>0.792552</td>\n",
       "      <td>0.592552</td>\n",
       "      <td>8</td>\n",
       "    </tr>\n",
       "    <tr>\n",
       "      <th>3</th>\n",
       "      <td>6493191</td>\n",
       "      <td>32</td>\n",
       "      <td>semi-monthly</td>\n",
       "      <td>0</td>\n",
       "      <td>5260</td>\n",
       "      <td>3</td>\n",
       "      <td>0</td>\n",
       "      <td>3</td>\n",
       "      <td>1</td>\n",
       "      <td>4</td>\n",
       "      <td>1</td>\n",
       "      <td>1150</td>\n",
       "      <td>64050</td>\n",
       "      <td>0.652429</td>\n",
       "      <td>0.802433</td>\n",
       "      <td>0.593816</td>\n",
       "      <td>0.560389</td>\n",
       "      <td>0.569459</td>\n",
       "      <td>0.369459</td>\n",
       "      <td>3</td>\n",
       "    </tr>\n",
       "    <tr>\n",
       "      <th>4</th>\n",
       "      <td>8990111</td>\n",
       "      <td>61</td>\n",
       "      <td>bi-weekly</td>\n",
       "      <td>1</td>\n",
       "      <td>3270</td>\n",
       "      <td>0</td>\n",
       "      <td>4</td>\n",
       "      <td>0</td>\n",
       "      <td>4</td>\n",
       "      <td>3</td>\n",
       "      <td>1</td>\n",
       "      <td>400</td>\n",
       "      <td>61700</td>\n",
       "      <td>0.659736</td>\n",
       "      <td>0.937287</td>\n",
       "      <td>0.852323</td>\n",
       "      <td>0.785698</td>\n",
       "      <td>0.632466</td>\n",
       "      <td>0.732466</td>\n",
       "      <td>7</td>\n",
       "    </tr>\n",
       "  </tbody>\n",
       "</table>\n",
       "</div>"
      ],
      "text/plain": [
       "   Entry_id  age  pay_schedule  home_owner  income  months_employed  \\\n",
       "0   3560428   61        weekly           0    3180                0   \n",
       "1   6934997   23        weekly           0    1540                6   \n",
       "2   5682812   40     bi-weekly           0    5230                0   \n",
       "3   6493191   32  semi-monthly           0    5260                3   \n",
       "4   8990111   61     bi-weekly           1    3270                0   \n",
       "\n",
       "   years_employed  current_address_year  personal_account_m  \\\n",
       "0               6                     3                   2   \n",
       "1               0                     0                   7   \n",
       "2               6                     1                   2   \n",
       "3               0                     3                   1   \n",
       "4               4                     0                   4   \n",
       "\n",
       "   personal_account_y  has_debt  amount_requested  risk_score  risk_score_2  \\\n",
       "0                   7         1               600       30150      0.738510   \n",
       "1                   1         1               450       34550      0.642993   \n",
       "2                   7         1               700       42150      0.665224   \n",
       "3                   4         1              1150       64050      0.652429   \n",
       "4                   3         1               400       61700      0.659736   \n",
       "\n",
       "   risk_score_3  risk_score_4  risk_score_5  ext_quality_score  \\\n",
       "0      0.881027      0.713423      0.826402           0.730720   \n",
       "1      0.766554      0.595018      0.762284           0.531712   \n",
       "2      0.960832      0.767828      0.778831           0.792552   \n",
       "3      0.802433      0.593816      0.560389           0.569459   \n",
       "4      0.937287      0.852323      0.785698           0.632466   \n",
       "\n",
       "   ext_quality_score_2  inquiries_last_month  \n",
       "0             0.630720                     9  \n",
       "1             0.531712                     7  \n",
       "2             0.592552                     8  \n",
       "3             0.369459                     3  \n",
       "4             0.732466                     7  "
      ]
     },
     "execution_count": 3,
     "metadata": {},
     "output_type": "execute_result"
    }
   ],
   "source": [
    "df_test = pd.read_csv(\"../input/datafestafrica-ml-hackathon/Data/test.csv\")\n",
    "df_test.head()"
   ]
  },
  {
   "cell_type": "code",
   "execution_count": 4,
   "id": "41c46c95",
   "metadata": {
    "execution": {
     "iopub.execute_input": "2022-10-06T09:18:19.233877Z",
     "iopub.status.busy": "2022-10-06T09:18:19.233461Z",
     "iopub.status.idle": "2022-10-06T09:18:19.417278Z",
     "shell.execute_reply": "2022-10-06T09:18:19.416006Z",
     "shell.execute_reply.started": "2022-10-06T09:18:19.233846Z"
    }
   },
   "outputs": [
    {
     "data": {
      "text/html": [
       "<div>\n",
       "<style scoped>\n",
       "    .dataframe tbody tr th:only-of-type {\n",
       "        vertical-align: middle;\n",
       "    }\n",
       "\n",
       "    .dataframe tbody tr th {\n",
       "        vertical-align: top;\n",
       "    }\n",
       "\n",
       "    .dataframe thead th {\n",
       "        text-align: right;\n",
       "    }\n",
       "</style>\n",
       "<table border=\"1\" class=\"dataframe\">\n",
       "  <thead>\n",
       "    <tr style=\"text-align: right;\">\n",
       "      <th></th>\n",
       "      <th>Entry_id</th>\n",
       "      <th>age</th>\n",
       "      <th>pay_schedule</th>\n",
       "      <th>home_owner</th>\n",
       "      <th>income</th>\n",
       "      <th>months_employed</th>\n",
       "      <th>years_employed</th>\n",
       "      <th>current_address_year</th>\n",
       "      <th>personal_account_m</th>\n",
       "      <th>personal_account_y</th>\n",
       "      <th>...</th>\n",
       "      <th>amount_requested</th>\n",
       "      <th>risk_score</th>\n",
       "      <th>risk_score_2</th>\n",
       "      <th>risk_score_3</th>\n",
       "      <th>risk_score_4</th>\n",
       "      <th>risk_score_5</th>\n",
       "      <th>ext_quality_score</th>\n",
       "      <th>ext_quality_score_2</th>\n",
       "      <th>inquiries_last_month</th>\n",
       "      <th>e_signed</th>\n",
       "    </tr>\n",
       "  </thead>\n",
       "  <tbody>\n",
       "    <tr>\n",
       "      <th>0</th>\n",
       "      <td>7629673</td>\n",
       "      <td>40</td>\n",
       "      <td>bi-weekly</td>\n",
       "      <td>1</td>\n",
       "      <td>3135</td>\n",
       "      <td>0</td>\n",
       "      <td>3</td>\n",
       "      <td>3</td>\n",
       "      <td>6</td>\n",
       "      <td>2</td>\n",
       "      <td>...</td>\n",
       "      <td>550</td>\n",
       "      <td>36200</td>\n",
       "      <td>0.737398</td>\n",
       "      <td>0.903517</td>\n",
       "      <td>0.487712</td>\n",
       "      <td>0.515977</td>\n",
       "      <td>0.580918</td>\n",
       "      <td>0.380918</td>\n",
       "      <td>10</td>\n",
       "      <td>1</td>\n",
       "    </tr>\n",
       "    <tr>\n",
       "      <th>1</th>\n",
       "      <td>5335819</td>\n",
       "      <td>33</td>\n",
       "      <td>semi-monthly</td>\n",
       "      <td>0</td>\n",
       "      <td>3590</td>\n",
       "      <td>0</td>\n",
       "      <td>5</td>\n",
       "      <td>2</td>\n",
       "      <td>2</td>\n",
       "      <td>8</td>\n",
       "      <td>...</td>\n",
       "      <td>1100</td>\n",
       "      <td>53850</td>\n",
       "      <td>0.617361</td>\n",
       "      <td>0.857560</td>\n",
       "      <td>0.613487</td>\n",
       "      <td>0.665523</td>\n",
       "      <td>0.744634</td>\n",
       "      <td>0.744634</td>\n",
       "      <td>12</td>\n",
       "      <td>0</td>\n",
       "    </tr>\n",
       "    <tr>\n",
       "      <th>2</th>\n",
       "      <td>8492423</td>\n",
       "      <td>21</td>\n",
       "      <td>weekly</td>\n",
       "      <td>0</td>\n",
       "      <td>2303</td>\n",
       "      <td>0</td>\n",
       "      <td>5</td>\n",
       "      <td>8</td>\n",
       "      <td>2</td>\n",
       "      <td>7</td>\n",
       "      <td>...</td>\n",
       "      <td>600</td>\n",
       "      <td>74850</td>\n",
       "      <td>0.677109</td>\n",
       "      <td>0.758765</td>\n",
       "      <td>0.495609</td>\n",
       "      <td>0.664762</td>\n",
       "      <td>0.592556</td>\n",
       "      <td>0.492556</td>\n",
       "      <td>6</td>\n",
       "      <td>1</td>\n",
       "    </tr>\n",
       "    <tr>\n",
       "      <th>3</th>\n",
       "      <td>7948313</td>\n",
       "      <td>26</td>\n",
       "      <td>bi-weekly</td>\n",
       "      <td>0</td>\n",
       "      <td>2795</td>\n",
       "      <td>0</td>\n",
       "      <td>4</td>\n",
       "      <td>4</td>\n",
       "      <td>1</td>\n",
       "      <td>6</td>\n",
       "      <td>...</td>\n",
       "      <td>800</td>\n",
       "      <td>50800</td>\n",
       "      <td>0.738055</td>\n",
       "      <td>0.873204</td>\n",
       "      <td>0.666437</td>\n",
       "      <td>0.700392</td>\n",
       "      <td>0.584130</td>\n",
       "      <td>0.684130</td>\n",
       "      <td>14</td>\n",
       "      <td>1</td>\n",
       "    </tr>\n",
       "    <tr>\n",
       "      <th>4</th>\n",
       "      <td>4297036</td>\n",
       "      <td>43</td>\n",
       "      <td>bi-weekly</td>\n",
       "      <td>0</td>\n",
       "      <td>5000</td>\n",
       "      <td>0</td>\n",
       "      <td>2</td>\n",
       "      <td>1</td>\n",
       "      <td>1</td>\n",
       "      <td>2</td>\n",
       "      <td>...</td>\n",
       "      <td>1100</td>\n",
       "      <td>69100</td>\n",
       "      <td>0.798303</td>\n",
       "      <td>0.841747</td>\n",
       "      <td>0.401971</td>\n",
       "      <td>0.568787</td>\n",
       "      <td>0.525905</td>\n",
       "      <td>0.725905</td>\n",
       "      <td>5</td>\n",
       "      <td>1</td>\n",
       "    </tr>\n",
       "  </tbody>\n",
       "</table>\n",
       "<p>5 rows × 21 columns</p>\n",
       "</div>"
      ],
      "text/plain": [
       "   Entry_id  age  pay_schedule  home_owner  income  months_employed  \\\n",
       "0   7629673   40     bi-weekly           1    3135                0   \n",
       "1   5335819   33  semi-monthly           0    3590                0   \n",
       "2   8492423   21        weekly           0    2303                0   \n",
       "3   7948313   26     bi-weekly           0    2795                0   \n",
       "4   4297036   43     bi-weekly           0    5000                0   \n",
       "\n",
       "   years_employed  current_address_year  personal_account_m  \\\n",
       "0               3                     3                   6   \n",
       "1               5                     2                   2   \n",
       "2               5                     8                   2   \n",
       "3               4                     4                   1   \n",
       "4               2                     1                   1   \n",
       "\n",
       "   personal_account_y  ...  amount_requested  risk_score  risk_score_2  \\\n",
       "0                   2  ...               550       36200      0.737398   \n",
       "1                   8  ...              1100       53850      0.617361   \n",
       "2                   7  ...               600       74850      0.677109   \n",
       "3                   6  ...               800       50800      0.738055   \n",
       "4                   2  ...              1100       69100      0.798303   \n",
       "\n",
       "   risk_score_3  risk_score_4  risk_score_5  ext_quality_score  \\\n",
       "0      0.903517      0.487712      0.515977           0.580918   \n",
       "1      0.857560      0.613487      0.665523           0.744634   \n",
       "2      0.758765      0.495609      0.664762           0.592556   \n",
       "3      0.873204      0.666437      0.700392           0.584130   \n",
       "4      0.841747      0.401971      0.568787           0.525905   \n",
       "\n",
       "   ext_quality_score_2  inquiries_last_month  e_signed  \n",
       "0             0.380918                    10         1  \n",
       "1             0.744634                    12         0  \n",
       "2             0.492556                     6         1  \n",
       "3             0.684130                    14         1  \n",
       "4             0.725905                     5         1  \n",
       "\n",
       "[5 rows x 21 columns]"
      ]
     },
     "execution_count": 4,
     "metadata": {},
     "output_type": "execute_result"
    }
   ],
   "source": [
    "df_train = pd.read_csv(\"../input/datafestafrica-ml-hackathon/Data/train.csv\")\n",
    "df_train.head()"
   ]
  },
  {
   "cell_type": "markdown",
   "id": "2c371bcd",
   "metadata": {},
   "source": [
    "### Exploratory Data Analysis"
   ]
  },
  {
   "cell_type": "markdown",
   "id": "81169240",
   "metadata": {},
   "source": [
    "Here, we will love to check for correlation in the train dataset"
   ]
  },
  {
   "cell_type": "code",
   "execution_count": 5,
   "id": "2f240c4a",
   "metadata": {
    "execution": {
     "iopub.execute_input": "2022-10-06T09:18:29.223016Z",
     "iopub.status.busy": "2022-10-06T09:18:29.222046Z",
     "iopub.status.idle": "2022-10-06T09:18:31.798587Z",
     "shell.execute_reply": "2022-10-06T09:18:31.797391Z",
     "shell.execute_reply.started": "2022-10-06T09:18:29.222967Z"
    }
   },
   "outputs": [
    {
     "data": {
      "text/plain": [
       "<AxesSubplot:>"
      ]
     },
     "execution_count": 5,
     "metadata": {},
     "output_type": "execute_result"
    },
    {
     "data": {
      "image/png": "[encoded data removed]",
      "text/plain": [
       "<Figure size 1440x432 with 2 Axes>"
      ]
     },
     "metadata": {
      "needs_background": "light"
     },
     "output_type": "display_data"
    }
   ],
   "source": [
    "plt.figure(figsize=(20, 6))\n",
    "sns.heatmap(df_train.corr(), annot=True)"
   ]
  },
  {
   "cell_type": "code",
   "execution_count": 7,
   "id": "bbddfd90",
   "metadata": {
    "execution": {
     "iopub.execute_input": "2022-10-06T09:18:44.387980Z",
     "iopub.status.busy": "2022-10-06T09:18:44.387485Z",
     "iopub.status.idle": "2022-10-06T09:18:44.395380Z",
     "shell.execute_reply": "2022-10-06T09:18:44.393990Z",
     "shell.execute_reply.started": "2022-10-06T09:18:44.387941Z"
    }
   },
   "outputs": [],
   "source": [
    "def correlation(dataset,threshold):\n",
    "    col_corr=set() # set will contains unique values.\n",
    "    corr_matrix=dataset.corr() #finding the correlation between columns.\n",
    "    for i in range(len(corr_matrix.columns)): #number of columns\n",
    "        for j in range(i):\n",
    "            if abs(corr_matrix.iloc[i,j])>threshold: #checking the correlation between columns.\n",
    "                colName=corr_matrix.columns[i] #getting the column name\n",
    "                col_corr.add(colName) #adding the correlated column name heigher than threshold value.\n",
    "    return col_corr #returning set of column names|"
   ]
  },
  {
   "cell_type": "code",
   "execution_count": 8,
   "id": "cdf4056d",
   "metadata": {
    "execution": {
     "iopub.execute_input": "2022-10-06T09:18:51.937254Z",
     "iopub.status.busy": "2022-10-06T09:18:51.936716Z",
     "iopub.status.idle": "2022-10-06T09:18:51.970804Z",
     "shell.execute_reply": "2022-10-06T09:18:51.969375Z",
     "shell.execute_reply.started": "2022-10-06T09:18:51.937213Z"
    }
   },
   "outputs": [
    {
     "name": "stdout",
     "output_type": "stream",
     "text": [
      "Correlated columns: set()\n",
      "0\n",
      "CPU times: user 25.2 ms, sys: 1.01 ms, total: 26.2 ms\n",
      "Wall time: 26.7 ms\n"
     ]
    }
   ],
   "source": [
    "%%time\n",
    "col=correlation(df_train.drop(columns=['Entry_id','e_signed']),0.99)\n",
    "print('Correlated columns:',col)\n",
    "print(len(col))"
   ]
  },
  {
   "cell_type": "markdown",
   "id": "1d069860",
   "metadata": {},
   "source": [
    "The result shows that are no correlated columns, great!!!"
   ]
  },
  {
   "cell_type": "markdown",
   "id": "686bd19b",
   "metadata": {},
   "source": [
    "Data Preprocessing"
   ]
  },
  {
   "cell_type": "markdown",
   "id": "3a51e31b",
   "metadata": {},
   "source": [
    "It should be noted that the pay_schedule column is not numeric. We will encode it become building our model as follows:  "
   ]
  },
  {
   "cell_type": "code",
   "execution_count": 9,
   "id": "c91781b3",
   "metadata": {
    "execution": {
     "iopub.execute_input": "2022-10-06T09:18:57.953278Z",
     "iopub.status.busy": "2022-10-06T09:18:57.952821Z",
     "iopub.status.idle": "2022-10-06T09:18:57.960148Z",
     "shell.execute_reply": "2022-10-06T09:18:57.958371Z",
     "shell.execute_reply.started": "2022-10-06T09:18:57.953240Z"
    }
   },
   "outputs": [],
   "source": [
    "pay_schedule_dict = {'bi-weekly': 1/24, 'weekly': 1/48, 'semi-monthly': 1/16, 'monthly': 1/12 }"
   ]
  },
  {
   "cell_type": "code",
   "execution_count": 10,
   "id": "ffb0ae21",
   "metadata": {
    "execution": {
     "iopub.execute_input": "2022-10-06T09:19:00.855961Z",
     "iopub.status.busy": "2022-10-06T09:19:00.855486Z",
     "iopub.status.idle": "2022-10-06T09:19:00.868084Z",
     "shell.execute_reply": "2022-10-06T09:19:00.866890Z",
     "shell.execute_reply.started": "2022-10-06T09:19:00.855921Z"
    }
   },
   "outputs": [],
   "source": [
    "df_train['pay_schedule'] = df_train['pay_schedule'].map(pay_schedule_dict)\n",
    "df_test['pay_schedule'] = df_test['pay_schedule'].map(pay_schedule_dict)"
   ]
  },
  {
   "cell_type": "markdown",
   "id": "41f6edd1",
   "metadata": {},
   "source": [
    "Now, seeing that the 'amount_requested' would be a significant feature that would influence our model, we will engineer another column named 'total_income' from it "
   ]
  },
  {
   "cell_type": "code",
   "execution_count": 12,
   "id": "a16c6340",
   "metadata": {
    "execution": {
     "iopub.execute_input": "2022-10-06T09:21:07.634306Z",
     "iopub.status.busy": "2022-10-06T09:21:07.633822Z",
     "iopub.status.idle": "2022-10-06T09:21:07.643366Z",
     "shell.execute_reply": "2022-10-06T09:21:07.641982Z",
     "shell.execute_reply.started": "2022-10-06T09:21:07.634257Z"
    }
   },
   "outputs": [],
   "source": [
    "df_train['total_income'] = df_train['income']+df_train['amount_requested']\n",
    "df_test['total_income'] = df_test['income']+df_test['amount_requested']"
   ]
  },
  {
   "cell_type": "markdown",
   "id": "cc645b69",
   "metadata": {},
   "source": [
    "The total_income column represents the total monetary value of each cusomer after recieving the loan"
   ]
  },
  {
   "cell_type": "markdown",
   "id": "b41b0b7e",
   "metadata": {},
   "source": [
    "We will engineer another column called 'yearly_income' as follows:"
   ]
  },
  {
   "cell_type": "code",
   "execution_count": 13,
   "id": "36a1a645",
   "metadata": {
    "execution": {
     "iopub.execute_input": "2022-10-06T09:21:10.579757Z",
     "iopub.status.busy": "2022-10-06T09:21:10.579318Z",
     "iopub.status.idle": "2022-10-06T09:21:10.589441Z",
     "shell.execute_reply": "2022-10-06T09:21:10.587919Z",
     "shell.execute_reply.started": "2022-10-06T09:21:10.579720Z"
    }
   },
   "outputs": [],
   "source": [
    "df_train['yearly_income'] = df_train['income'] * df_train['years_employed']\n",
    "df_test['yearly_income'] = df_test['income'] * df_test['years_employed']"
   ]
  },
  {
   "cell_type": "markdown",
   "id": "ff705eb3",
   "metadata": {},
   "source": [
    "Next, we will split the train dataset into features and taget. We will also drop the 'Entry_id' column as it's effect on the model will be insignificant"
   ]
  },
  {
   "cell_type": "code",
   "execution_count": 14,
   "id": "e5c8b458",
   "metadata": {
    "execution": {
     "iopub.execute_input": "2022-10-06T09:21:13.899610Z",
     "iopub.status.busy": "2022-10-06T09:21:13.899075Z",
     "iopub.status.idle": "2022-10-06T09:21:13.912497Z",
     "shell.execute_reply": "2022-10-06T09:21:13.911151Z",
     "shell.execute_reply.started": "2022-10-06T09:21:13.899563Z"
    }
   },
   "outputs": [],
   "source": [
    "df_train_features = df_train.drop(['Entry_id','e_signed'], axis = 1)\n",
    "y = df_train_target = df_train['e_signed']\n",
    "test = df_test.drop(['Entry_id'], axis=1)"
   ]
  },
  {
   "cell_type": "code",
   "execution_count": 15,
   "id": "ce551e04",
   "metadata": {
    "execution": {
     "iopub.execute_input": "2022-10-06T09:21:17.273084Z",
     "iopub.status.busy": "2022-10-06T09:21:17.272627Z",
     "iopub.status.idle": "2022-10-06T09:21:17.282324Z",
     "shell.execute_reply": "2022-10-06T09:21:17.280768Z",
     "shell.execute_reply.started": "2022-10-06T09:21:17.273043Z"
    }
   },
   "outputs": [
    {
     "data": {
      "text/plain": [
       "((12516, 21), (12516,), (5392, 21))"
      ]
     },
     "execution_count": 15,
     "metadata": {},
     "output_type": "execute_result"
    }
   ],
   "source": [
    "df_train_features.shape, df_train_target.shape, test .shape"
   ]
  },
  {
   "cell_type": "markdown",
   "id": "59f53918",
   "metadata": {},
   "source": [
    "### Feature Scaling"
   ]
  },
  {
   "cell_type": "markdown",
   "id": "4d6ed298",
   "metadata": {},
   "source": [
    "Now, we will scale both the train and test dataset features using a MinMaxScaler"
   ]
  },
  {
   "cell_type": "code",
   "execution_count": 16,
   "id": "7753737d",
   "metadata": {
    "execution": {
     "iopub.execute_input": "2022-10-06T09:21:20.736441Z",
     "iopub.status.busy": "2022-10-06T09:21:20.736006Z",
     "iopub.status.idle": "2022-10-06T09:21:20.758499Z",
     "shell.execute_reply": "2022-10-06T09:21:20.757094Z",
     "shell.execute_reply.started": "2022-10-06T09:21:20.736405Z"
    }
   },
   "outputs": [],
   "source": [
    "# Import sklearn.preprocessing.StandardScaler\n",
    "from sklearn.preprocessing import MinMaxScaler\n",
    "\n",
    "# Initialize a scaler, then apply it to the features\n",
    "scaler = MinMaxScaler()\n",
    "X = scaler.fit_transform(df_train_features)\n",
    "Z = scaler.fit_transform(test)"
   ]
  },
  {
   "cell_type": "code",
   "execution_count": 17,
   "id": "cce0b013",
   "metadata": {
    "execution": {
     "iopub.execute_input": "2022-10-06T09:21:23.768624Z",
     "iopub.status.busy": "2022-10-06T09:21:23.768170Z",
     "iopub.status.idle": "2022-10-06T09:21:23.801087Z",
     "shell.execute_reply": "2022-10-06T09:21:23.799920Z",
     "shell.execute_reply.started": "2022-10-06T09:21:23.768577Z"
    }
   },
   "outputs": [
    {
     "data": {
      "text/html": [
       "<div>\n",
       "<style scoped>\n",
       "    .dataframe tbody tr th:only-of-type {\n",
       "        vertical-align: middle;\n",
       "    }\n",
       "\n",
       "    .dataframe tbody tr th {\n",
       "        vertical-align: top;\n",
       "    }\n",
       "\n",
       "    .dataframe thead th {\n",
       "        text-align: right;\n",
       "    }\n",
       "</style>\n",
       "<table border=\"1\" class=\"dataframe\">\n",
       "  <thead>\n",
       "    <tr style=\"text-align: right;\">\n",
       "      <th></th>\n",
       "      <th>age</th>\n",
       "      <th>pay_schedule</th>\n",
       "      <th>home_owner</th>\n",
       "      <th>income</th>\n",
       "      <th>months_employed</th>\n",
       "      <th>years_employed</th>\n",
       "      <th>current_address_year</th>\n",
       "      <th>personal_account_m</th>\n",
       "      <th>personal_account_y</th>\n",
       "      <th>has_debt</th>\n",
       "      <th>...</th>\n",
       "      <th>risk_score</th>\n",
       "      <th>risk_score_2</th>\n",
       "      <th>risk_score_3</th>\n",
       "      <th>risk_score_4</th>\n",
       "      <th>risk_score_5</th>\n",
       "      <th>ext_quality_score</th>\n",
       "      <th>ext_quality_score_2</th>\n",
       "      <th>inquiries_last_month</th>\n",
       "      <th>total_income</th>\n",
       "      <th>yearly_income</th>\n",
       "    </tr>\n",
       "  </thead>\n",
       "  <tbody>\n",
       "    <tr>\n",
       "      <th>0</th>\n",
       "      <td>0.282051</td>\n",
       "      <td>0.333333</td>\n",
       "      <td>1.0</td>\n",
       "      <td>0.245595</td>\n",
       "      <td>0.0</td>\n",
       "      <td>0.1875</td>\n",
       "      <td>0.250000</td>\n",
       "      <td>0.545455</td>\n",
       "      <td>0.142857</td>\n",
       "      <td>1.0</td>\n",
       "      <td>...</td>\n",
       "      <td>0.349206</td>\n",
       "      <td>0.731147</td>\n",
       "      <td>0.825625</td>\n",
       "      <td>0.489487</td>\n",
       "      <td>0.431680</td>\n",
       "      <td>0.594474</td>\n",
       "      <td>0.389757</td>\n",
       "      <td>0.310345</td>\n",
       "      <td>0.125035</td>\n",
       "      <td>0.084331</td>\n",
       "    </tr>\n",
       "    <tr>\n",
       "      <th>1</th>\n",
       "      <td>0.192308</td>\n",
       "      <td>0.666667</td>\n",
       "      <td>0.0</td>\n",
       "      <td>0.295705</td>\n",
       "      <td>0.0</td>\n",
       "      <td>0.3125</td>\n",
       "      <td>0.166667</td>\n",
       "      <td>0.181818</td>\n",
       "      <td>0.571429</td>\n",
       "      <td>1.0</td>\n",
       "      <td>...</td>\n",
       "      <td>0.529954</td>\n",
       "      <td>0.608251</td>\n",
       "      <td>0.741705</td>\n",
       "      <td>0.620201</td>\n",
       "      <td>0.609713</td>\n",
       "      <td>0.765000</td>\n",
       "      <td>0.768498</td>\n",
       "      <td>0.379310</td>\n",
       "      <td>0.181385</td>\n",
       "      <td>0.160950</td>\n",
       "    </tr>\n",
       "    <tr>\n",
       "      <th>2</th>\n",
       "      <td>0.038462</td>\n",
       "      <td>0.000000</td>\n",
       "      <td>0.0</td>\n",
       "      <td>0.153965</td>\n",
       "      <td>0.0</td>\n",
       "      <td>0.3125</td>\n",
       "      <td>0.666667</td>\n",
       "      <td>0.181818</td>\n",
       "      <td>0.500000</td>\n",
       "      <td>1.0</td>\n",
       "      <td>...</td>\n",
       "      <td>0.745008</td>\n",
       "      <td>0.669422</td>\n",
       "      <td>0.561305</td>\n",
       "      <td>0.497694</td>\n",
       "      <td>0.608806</td>\n",
       "      <td>0.606596</td>\n",
       "      <td>0.506007</td>\n",
       "      <td>0.172414</td>\n",
       "      <td>0.081189</td>\n",
       "      <td>0.103250</td>\n",
       "    </tr>\n",
       "    <tr>\n",
       "      <th>3</th>\n",
       "      <td>0.102564</td>\n",
       "      <td>0.333333</td>\n",
       "      <td>0.0</td>\n",
       "      <td>0.208150</td>\n",
       "      <td>0.0</td>\n",
       "      <td>0.2500</td>\n",
       "      <td>0.333333</td>\n",
       "      <td>0.090909</td>\n",
       "      <td>0.428571</td>\n",
       "      <td>1.0</td>\n",
       "      <td>...</td>\n",
       "      <td>0.498720</td>\n",
       "      <td>0.731819</td>\n",
       "      <td>0.770273</td>\n",
       "      <td>0.675231</td>\n",
       "      <td>0.651223</td>\n",
       "      <td>0.597820</td>\n",
       "      <td>0.705494</td>\n",
       "      <td>0.448276</td>\n",
       "      <td>0.119989</td>\n",
       "      <td>0.100247</td>\n",
       "    </tr>\n",
       "    <tr>\n",
       "      <th>4</th>\n",
       "      <td>0.320513</td>\n",
       "      <td>0.333333</td>\n",
       "      <td>0.0</td>\n",
       "      <td>0.450991</td>\n",
       "      <td>0.0</td>\n",
       "      <td>0.1250</td>\n",
       "      <td>0.083333</td>\n",
       "      <td>0.090909</td>\n",
       "      <td>0.142857</td>\n",
       "      <td>1.0</td>\n",
       "      <td>...</td>\n",
       "      <td>0.686124</td>\n",
       "      <td>0.793503</td>\n",
       "      <td>0.712831</td>\n",
       "      <td>0.400378</td>\n",
       "      <td>0.494550</td>\n",
       "      <td>0.537173</td>\n",
       "      <td>0.748995</td>\n",
       "      <td>0.137931</td>\n",
       "      <td>0.260443</td>\n",
       "      <td>0.089666</td>\n",
       "    </tr>\n",
       "  </tbody>\n",
       "</table>\n",
       "<p>5 rows × 21 columns</p>\n",
       "</div>"
      ],
      "text/plain": [
       "        age  pay_schedule  home_owner    income  months_employed  \\\n",
       "0  0.282051      0.333333         1.0  0.245595              0.0   \n",
       "1  0.192308      0.666667         0.0  0.295705              0.0   \n",
       "2  0.038462      0.000000         0.0  0.153965              0.0   \n",
       "3  0.102564      0.333333         0.0  0.208150              0.0   \n",
       "4  0.320513      0.333333         0.0  0.450991              0.0   \n",
       "\n",
       "   years_employed  current_address_year  personal_account_m  \\\n",
       "0          0.1875              0.250000            0.545455   \n",
       "1          0.3125              0.166667            0.181818   \n",
       "2          0.3125              0.666667            0.181818   \n",
       "3          0.2500              0.333333            0.090909   \n",
       "4          0.1250              0.083333            0.090909   \n",
       "\n",
       "   personal_account_y  has_debt  ...  risk_score  risk_score_2  risk_score_3  \\\n",
       "0            0.142857       1.0  ...    0.349206      0.731147      0.825625   \n",
       "1            0.571429       1.0  ...    0.529954      0.608251      0.741705   \n",
       "2            0.500000       1.0  ...    0.745008      0.669422      0.561305   \n",
       "3            0.428571       1.0  ...    0.498720      0.731819      0.770273   \n",
       "4            0.142857       1.0  ...    0.686124      0.793503      0.712831   \n",
       "\n",
       "   risk_score_4  risk_score_5  ext_quality_score  ext_quality_score_2  \\\n",
       "0      0.489487      0.431680           0.594474             0.389757   \n",
       "1      0.620201      0.609713           0.765000             0.768498   \n",
       "2      0.497694      0.608806           0.606596             0.506007   \n",
       "3      0.675231      0.651223           0.597820             0.705494   \n",
       "4      0.400378      0.494550           0.537173             0.748995   \n",
       "\n",
       "   inquiries_last_month  total_income  yearly_income  \n",
       "0              0.310345      0.125035       0.084331  \n",
       "1              0.379310      0.181385       0.160950  \n",
       "2              0.172414      0.081189       0.103250  \n",
       "3              0.448276      0.119989       0.100247  \n",
       "4              0.137931      0.260443       0.089666  \n",
       "\n",
       "[5 rows x 21 columns]"
      ]
     },
     "execution_count": 17,
     "metadata": {},
     "output_type": "execute_result"
    }
   ],
   "source": [
    "X = pd.DataFrame(X, columns =df_train_features.columns)\n",
    "X.head()"
   ]
  },
  {
   "cell_type": "code",
   "execution_count": 18,
   "id": "6b1cf481",
   "metadata": {
    "execution": {
     "iopub.execute_input": "2022-10-06T09:21:25.994201Z",
     "iopub.status.busy": "2022-10-06T09:21:25.993813Z",
     "iopub.status.idle": "2022-10-06T09:21:26.024191Z",
     "shell.execute_reply": "2022-10-06T09:21:26.022696Z",
     "shell.execute_reply.started": "2022-10-06T09:21:25.994168Z"
    }
   },
   "outputs": [
    {
     "data": {
      "text/html": [
       "<div>\n",
       "<style scoped>\n",
       "    .dataframe tbody tr th:only-of-type {\n",
       "        vertical-align: middle;\n",
       "    }\n",
       "\n",
       "    .dataframe tbody tr th {\n",
       "        vertical-align: top;\n",
       "    }\n",
       "\n",
       "    .dataframe thead th {\n",
       "        text-align: right;\n",
       "    }\n",
       "</style>\n",
       "<table border=\"1\" class=\"dataframe\">\n",
       "  <thead>\n",
       "    <tr style=\"text-align: right;\">\n",
       "      <th></th>\n",
       "      <th>age</th>\n",
       "      <th>pay_schedule</th>\n",
       "      <th>home_owner</th>\n",
       "      <th>income</th>\n",
       "      <th>months_employed</th>\n",
       "      <th>years_employed</th>\n",
       "      <th>current_address_year</th>\n",
       "      <th>personal_account_m</th>\n",
       "      <th>personal_account_y</th>\n",
       "      <th>has_debt</th>\n",
       "      <th>...</th>\n",
       "      <th>risk_score</th>\n",
       "      <th>risk_score_2</th>\n",
       "      <th>risk_score_3</th>\n",
       "      <th>risk_score_4</th>\n",
       "      <th>risk_score_5</th>\n",
       "      <th>ext_quality_score</th>\n",
       "      <th>ext_quality_score_2</th>\n",
       "      <th>inquiries_last_month</th>\n",
       "      <th>total_income</th>\n",
       "      <th>yearly_income</th>\n",
       "    </tr>\n",
       "  </thead>\n",
       "  <tbody>\n",
       "    <tr>\n",
       "      <th>0</th>\n",
       "      <td>0.632353</td>\n",
       "      <td>0.000000</td>\n",
       "      <td>0.0</td>\n",
       "      <td>0.244791</td>\n",
       "      <td>0.000000</td>\n",
       "      <td>0.400000</td>\n",
       "      <td>0.250000</td>\n",
       "      <td>0.181818</td>\n",
       "      <td>0.466667</td>\n",
       "      <td>1.0</td>\n",
       "      <td>...</td>\n",
       "      <td>0.270954</td>\n",
       "      <td>0.686391</td>\n",
       "      <td>0.744899</td>\n",
       "      <td>0.727481</td>\n",
       "      <td>0.782649</td>\n",
       "      <td>0.756158</td>\n",
       "      <td>0.631528</td>\n",
       "      <td>0.275862</td>\n",
       "      <td>0.168665</td>\n",
       "      <td>0.160620</td>\n",
       "    </tr>\n",
       "    <tr>\n",
       "      <th>1</th>\n",
       "      <td>0.073529</td>\n",
       "      <td>0.000000</td>\n",
       "      <td>0.0</td>\n",
       "      <td>0.058067</td>\n",
       "      <td>0.545455</td>\n",
       "      <td>0.000000</td>\n",
       "      <td>0.000000</td>\n",
       "      <td>0.636364</td>\n",
       "      <td>0.066667</td>\n",
       "      <td>1.0</td>\n",
       "      <td>...</td>\n",
       "      <td>0.317343</td>\n",
       "      <td>0.571813</td>\n",
       "      <td>0.497416</td>\n",
       "      <td>0.590752</td>\n",
       "      <td>0.700603</td>\n",
       "      <td>0.547311</td>\n",
       "      <td>0.518539</td>\n",
       "      <td>0.206897</td>\n",
       "      <td>0.025580</td>\n",
       "      <td>0.000000</td>\n",
       "    </tr>\n",
       "    <tr>\n",
       "      <th>2</th>\n",
       "      <td>0.323529</td>\n",
       "      <td>0.333333</td>\n",
       "      <td>0.0</td>\n",
       "      <td>0.478197</td>\n",
       "      <td>0.000000</td>\n",
       "      <td>0.400000</td>\n",
       "      <td>0.083333</td>\n",
       "      <td>0.181818</td>\n",
       "      <td>0.466667</td>\n",
       "      <td>1.0</td>\n",
       "      <td>...</td>\n",
       "      <td>0.397470</td>\n",
       "      <td>0.598480</td>\n",
       "      <td>0.917433</td>\n",
       "      <td>0.790305</td>\n",
       "      <td>0.721776</td>\n",
       "      <td>0.821047</td>\n",
       "      <td>0.587970</td>\n",
       "      <td>0.241379</td>\n",
       "      <td>0.340528</td>\n",
       "      <td>0.264164</td>\n",
       "    </tr>\n",
       "    <tr>\n",
       "      <th>3</th>\n",
       "      <td>0.205882</td>\n",
       "      <td>0.666667</td>\n",
       "      <td>0.0</td>\n",
       "      <td>0.481612</td>\n",
       "      <td>0.272727</td>\n",
       "      <td>0.000000</td>\n",
       "      <td>0.250000</td>\n",
       "      <td>0.090909</td>\n",
       "      <td>0.266667</td>\n",
       "      <td>1.0</td>\n",
       "      <td>...</td>\n",
       "      <td>0.628361</td>\n",
       "      <td>0.583132</td>\n",
       "      <td>0.574985</td>\n",
       "      <td>0.589363</td>\n",
       "      <td>0.442256</td>\n",
       "      <td>0.586924</td>\n",
       "      <td>0.333376</td>\n",
       "      <td>0.068966</td>\n",
       "      <td>0.378897</td>\n",
       "      <td>0.000000</td>\n",
       "    </tr>\n",
       "    <tr>\n",
       "      <th>4</th>\n",
       "      <td>0.632353</td>\n",
       "      <td>0.333333</td>\n",
       "      <td>1.0</td>\n",
       "      <td>0.255038</td>\n",
       "      <td>0.000000</td>\n",
       "      <td>0.266667</td>\n",
       "      <td>0.000000</td>\n",
       "      <td>0.363636</td>\n",
       "      <td>0.200000</td>\n",
       "      <td>1.0</td>\n",
       "      <td>...</td>\n",
       "      <td>0.603585</td>\n",
       "      <td>0.591897</td>\n",
       "      <td>0.866529</td>\n",
       "      <td>0.887876</td>\n",
       "      <td>0.730563</td>\n",
       "      <td>0.653046</td>\n",
       "      <td>0.747640</td>\n",
       "      <td>0.206897</td>\n",
       "      <td>0.159872</td>\n",
       "      <td>0.110110</td>\n",
       "    </tr>\n",
       "  </tbody>\n",
       "</table>\n",
       "<p>5 rows × 21 columns</p>\n",
       "</div>"
      ],
      "text/plain": [
       "        age  pay_schedule  home_owner    income  months_employed  \\\n",
       "0  0.632353      0.000000         0.0  0.244791         0.000000   \n",
       "1  0.073529      0.000000         0.0  0.058067         0.545455   \n",
       "2  0.323529      0.333333         0.0  0.478197         0.000000   \n",
       "3  0.205882      0.666667         0.0  0.481612         0.272727   \n",
       "4  0.632353      0.333333         1.0  0.255038         0.000000   \n",
       "\n",
       "   years_employed  current_address_year  personal_account_m  \\\n",
       "0        0.400000              0.250000            0.181818   \n",
       "1        0.000000              0.000000            0.636364   \n",
       "2        0.400000              0.083333            0.181818   \n",
       "3        0.000000              0.250000            0.090909   \n",
       "4        0.266667              0.000000            0.363636   \n",
       "\n",
       "   personal_account_y  has_debt  ...  risk_score  risk_score_2  risk_score_3  \\\n",
       "0            0.466667       1.0  ...    0.270954      0.686391      0.744899   \n",
       "1            0.066667       1.0  ...    0.317343      0.571813      0.497416   \n",
       "2            0.466667       1.0  ...    0.397470      0.598480      0.917433   \n",
       "3            0.266667       1.0  ...    0.628361      0.583132      0.574985   \n",
       "4            0.200000       1.0  ...    0.603585      0.591897      0.866529   \n",
       "\n",
       "   risk_score_4  risk_score_5  ext_quality_score  ext_quality_score_2  \\\n",
       "0      0.727481      0.782649           0.756158             0.631528   \n",
       "1      0.590752      0.700603           0.547311             0.518539   \n",
       "2      0.790305      0.721776           0.821047             0.587970   \n",
       "3      0.589363      0.442256           0.586924             0.333376   \n",
       "4      0.887876      0.730563           0.653046             0.747640   \n",
       "\n",
       "   inquiries_last_month  total_income  yearly_income  \n",
       "0              0.275862      0.168665       0.160620  \n",
       "1              0.206897      0.025580       0.000000  \n",
       "2              0.241379      0.340528       0.264164  \n",
       "3              0.068966      0.378897       0.000000  \n",
       "4              0.206897      0.159872       0.110110  \n",
       "\n",
       "[5 rows x 21 columns]"
      ]
     },
     "execution_count": 18,
     "metadata": {},
     "output_type": "execute_result"
    }
   ],
   "source": [
    "Z = pd.DataFrame(Z, columns =test.columns)\n",
    "Z.head()"
   ]
  },
  {
   "cell_type": "code",
   "execution_count": 19,
   "id": "6a14210c",
   "metadata": {
    "execution": {
     "iopub.execute_input": "2022-10-06T09:21:28.522861Z",
     "iopub.status.busy": "2022-10-06T09:21:28.522421Z",
     "iopub.status.idle": "2022-10-06T09:21:28.532205Z",
     "shell.execute_reply": "2022-10-06T09:21:28.530895Z",
     "shell.execute_reply.started": "2022-10-06T09:21:28.522825Z"
    }
   },
   "outputs": [
    {
     "data": {
      "text/plain": [
       "((12516, 21), (12516,), (5392, 21))"
      ]
     },
     "execution_count": 19,
     "metadata": {},
     "output_type": "execute_result"
    }
   ],
   "source": [
    "X.shape, y.shape, Z.shape"
   ]
  },
  {
   "cell_type": "markdown",
   "id": "45d23663",
   "metadata": {},
   "source": [
    "### Modeling"
   ]
  },
  {
   "cell_type": "code",
   "execution_count": 24,
   "id": "e72b67e4",
   "metadata": {
    "execution": {
     "iopub.execute_input": "2022-10-06T09:29:09.297246Z",
     "iopub.status.busy": "2022-10-06T09:29:09.296834Z",
     "iopub.status.idle": "2022-10-06T09:29:09.307793Z",
     "shell.execute_reply": "2022-10-06T09:29:09.306532Z",
     "shell.execute_reply.started": "2022-10-06T09:29:09.297209Z"
    }
   },
   "outputs": [],
   "source": [
    "folds = StratifiedKFold(n_splits=10, shuffle=True, random_state=1235)\n",
    "\n",
    "def run(trial):\n",
    "\n",
    "  for fold_, (trn_idx, val_idx) in enumerate(folds.split(X, y)):\n",
    "    X_trn, y_trn = X.iloc[trn_idx], y.iloc[trn_idx]\n",
    "    X_val, y_val = X.iloc[val_idx], y.iloc[val_idx]\n",
    "    learning_rate = trial.suggest_float('learning_rate', 0.01, 0.1)\n",
    "    max_depths = trial.suggest_int('max_depth', 5, 8)\n",
    "    n_estimators = trial.suggest_int('n_estimators', 100, 3000)\n",
    "    min_child_samples = trial.suggest_int('min_child_samples', 5, 25)\n",
    "    l2_leaf_reg = trial.suggest_float('l2_leaf_reg', 0.0,10.0)\n",
    "    colsample_bylevel = trial.suggest_float('colsample_bylevel', 0.1,1.0)\n",
    "        \n",
    "    clf = CatBoostClassifier(random_state=15,learning_rate=learning_rate, eval_metric='AUC', depth=max_depths,n_estimators=n_estimators,  \n",
    "                  l2_leaf_reg=l2_leaf_reg, min_child_samples=min_child_samples,\n",
    "                  colsample_bylevel=colsample_bylevel,  silent=True)\n",
    "    \n",
    "    clf.fit(X_trn, y_trn, eval_set = [(X_val, y_val)],verbose=0, early_stopping_rounds=100)\n",
    "    \n",
    "    vp = clf.predict_proba(X_val)[:,1]\n",
    "    val_score = roc_auc_score((y_val), (vp))\n",
    "\n",
    "    return val_score"
   ]
  },
  {
   "cell_type": "markdown",
   "id": "b3a2a263",
   "metadata": {},
   "source": [
    "### Performance Tuning"
   ]
  },
  {
   "cell_type": "code",
   "execution_count": 21,
   "id": "80006455",
   "metadata": {
    "execution": {
     "iopub.execute_input": "2022-10-06T09:21:44.817839Z",
     "iopub.status.busy": "2022-10-06T09:21:44.817410Z",
     "iopub.status.idle": "2022-10-06T09:23:09.133927Z",
     "shell.execute_reply": "2022-10-06T09:23:09.133006Z",
     "shell.execute_reply.started": "2022-10-06T09:21:44.817795Z"
    }
   },
   "outputs": [
    {
     "name": "stderr",
     "output_type": "stream",
     "text": [
      "\u001b[32m[I 2022-10-06 09:21:44,820]\u001b[0m A new study created in memory with name: lgb_optimization\u001b[0m\n",
      "\u001b[32m[I 2022-10-06 09:21:46,236]\u001b[0m Trial 0 finished with value: 0.6874651595915483 and parameters: {'learning_rate': 0.07806793429820322, 'max_depth': 6, 'n_estimators': 268, 'min_child_samples': 7, 'l2_leaf_reg': 3.5416308192363033, 'colsample_bylevel': 0.154053753898538}. Best is trial 0 with value: 0.6874651595915483.\u001b[0m\n",
      "\u001b[32m[I 2022-10-06 09:21:48,403]\u001b[0m Trial 1 finished with value: 0.6767272493738361 and parameters: {'learning_rate': 0.01637407337325995, 'max_depth': 5, 'n_estimators': 414, 'min_child_samples': 7, 'l2_leaf_reg': 8.622761509759325, 'colsample_bylevel': 0.6738028238294813}. Best is trial 1 with value: 0.6767272493738361.\u001b[0m\n",
      "\u001b[32m[I 2022-10-06 09:21:50,813]\u001b[0m Trial 2 finished with value: 0.688187014321495 and parameters: {'learning_rate': 0.04355039205575948, 'max_depth': 5, 'n_estimators': 2581, 'min_child_samples': 15, 'l2_leaf_reg': 9.56992239972595, 'colsample_bylevel': 0.5543988469117278}. Best is trial 1 with value: 0.6767272493738361.\u001b[0m\n",
      "\u001b[32m[I 2022-10-06 09:21:53,138]\u001b[0m Trial 3 finished with value: 0.6848140774516729 and parameters: {'learning_rate': 0.08598754940578283, 'max_depth': 7, 'n_estimators': 2200, 'min_child_samples': 20, 'l2_leaf_reg': 9.321719901788699, 'colsample_bylevel': 0.3975558888217573}. Best is trial 1 with value: 0.6767272493738361.\u001b[0m\n",
      "\u001b[32m[I 2022-10-06 09:22:01,192]\u001b[0m Trial 4 finished with value: 0.6903525785113352 and parameters: {'learning_rate': 0.012919202357260278, 'max_depth': 5, 'n_estimators': 2298, 'min_child_samples': 14, 'l2_leaf_reg': 6.922425269902699, 'colsample_bylevel': 0.7819544810820942}. Best is trial 1 with value: 0.6767272493738361.\u001b[0m\n",
      "\u001b[32m[I 2022-10-06 09:22:03,822]\u001b[0m Trial 5 finished with value: 0.6905195555840986 and parameters: {'learning_rate': 0.03312792887794107, 'max_depth': 5, 'n_estimators': 2818, 'min_child_samples': 6, 'l2_leaf_reg': 6.5641385192390445, 'colsample_bylevel': 0.6647329510768227}. Best is trial 1 with value: 0.6767272493738361.\u001b[0m\n",
      "\u001b[32m[I 2022-10-06 09:22:07,728]\u001b[0m Trial 6 finished with value: 0.6866431186179436 and parameters: {'learning_rate': 0.03203474619461822, 'max_depth': 6, 'n_estimators': 596, 'min_child_samples': 25, 'l2_leaf_reg': 2.4882478548554223, 'colsample_bylevel': 0.8972373880406245}. Best is trial 1 with value: 0.6767272493738361.\u001b[0m\n",
      "\u001b[32m[I 2022-10-06 09:22:09,980]\u001b[0m Trial 7 finished with value: 0.6804906557061203 and parameters: {'learning_rate': 0.023087843831585943, 'max_depth': 5, 'n_estimators': 422, 'min_child_samples': 7, 'l2_leaf_reg': 8.68958838687773, 'colsample_bylevel': 0.8557179576036207}. Best is trial 1 with value: 0.6767272493738361.\u001b[0m\n",
      "\u001b[32m[I 2022-10-06 09:22:12,424]\u001b[0m Trial 8 finished with value: 0.6876526876886518 and parameters: {'learning_rate': 0.07863130834867665, 'max_depth': 7, 'n_estimators': 1629, 'min_child_samples': 10, 'l2_leaf_reg': 2.3877837126072645, 'colsample_bylevel': 0.4467355171683075}. Best is trial 1 with value: 0.6767272493738361.\u001b[0m\n",
      "\u001b[32m[I 2022-10-06 09:22:14,724]\u001b[0m Trial 9 finished with value: 0.6803493674137819 and parameters: {'learning_rate': 0.029111565281964617, 'max_depth': 5, 'n_estimators': 628, 'min_child_samples': 23, 'l2_leaf_reg': 2.939953811528392, 'colsample_bylevel': 0.883776562483372}. Best is trial 1 with value: 0.6767272493738361.\u001b[0m\n",
      "\u001b[32m[I 2022-10-06 09:22:16,226]\u001b[0m Trial 10 finished with value: 0.6609594759488793 and parameters: {'learning_rate': 0.05905691073707391, 'max_depth': 8, 'n_estimators': 1177, 'min_child_samples': 11, 'l2_leaf_reg': 0.0212071811733745, 'colsample_bylevel': 0.2328265089038854}. Best is trial 10 with value: 0.6609594759488793.\u001b[0m\n",
      "\u001b[32m[I 2022-10-06 09:22:18,761]\u001b[0m Trial 11 finished with value: 0.6706081818765653 and parameters: {'learning_rate': 0.060308673562497805, 'max_depth': 8, 'n_estimators': 1200, 'min_child_samples': 11, 'l2_leaf_reg': 0.4215162150687881, 'colsample_bylevel': 0.14316219179258763}. Best is trial 10 with value: 0.6609594759488793.\u001b[0m\n",
      "\u001b[32m[I 2022-10-06 09:22:21,277]\u001b[0m Trial 12 finished with value: 0.6966874317641769 and parameters: {'learning_rate': 0.0619263673554095, 'max_depth': 8, 'n_estimators': 1244, 'min_child_samples': 12, 'l2_leaf_reg': 0.6670157599448114, 'colsample_bylevel': 0.13806627222704906}. Best is trial 10 with value: 0.6609594759488793.\u001b[0m\n",
      "\u001b[32m[I 2022-10-06 09:22:23,133]\u001b[0m Trial 13 finished with value: 0.6758178665467856 and parameters: {'learning_rate': 0.05928781448782751, 'max_depth': 8, 'n_estimators': 1256, 'min_child_samples': 18, 'l2_leaf_reg': 0.35774022379961556, 'colsample_bylevel': 0.2781066278254518}. Best is trial 10 with value: 0.6609594759488793.\u001b[0m\n",
      "\u001b[32m[I 2022-10-06 09:22:26,228]\u001b[0m Trial 14 finished with value: 0.6838327660394323 and parameters: {'learning_rate': 0.09908072223327061, 'max_depth': 8, 'n_estimators': 1649, 'min_child_samples': 11, 'l2_leaf_reg': 1.1638894700123446, 'colsample_bylevel': 0.28775635416429635}. Best is trial 10 with value: 0.6609594759488793.\u001b[0m\n",
      "\u001b[32m[I 2022-10-06 09:22:29,123]\u001b[0m Trial 15 finished with value: 0.6823402478967311 and parameters: {'learning_rate': 0.04939631385804641, 'max_depth': 7, 'n_estimators': 1013, 'min_child_samples': 18, 'l2_leaf_reg': 4.264829789223793, 'colsample_bylevel': 0.10142297489177526}. Best is trial 10 with value: 0.6609594759488793.\u001b[0m\n",
      "\u001b[32m[I 2022-10-06 09:22:33,812]\u001b[0m Trial 16 finished with value: 0.6942187399653201 and parameters: {'learning_rate': 0.06731758576104498, 'max_depth': 8, 'n_estimators': 1978, 'min_child_samples': 10, 'l2_leaf_reg': 1.5245957393588867, 'colsample_bylevel': 0.27336075905323065}. Best is trial 10 with value: 0.6609594759488793.\u001b[0m\n",
      "\u001b[32m[I 2022-10-06 09:22:36,672]\u001b[0m Trial 17 finished with value: 0.6814642604842335 and parameters: {'learning_rate': 0.04169294713006311, 'max_depth': 7, 'n_estimators': 1047, 'min_child_samples': 13, 'l2_leaf_reg': 0.048718347273671414, 'colsample_bylevel': 0.40088152117605425}. Best is trial 10 with value: 0.6609594759488793.\u001b[0m\n",
      "\u001b[32m[I 2022-10-06 09:22:38,327]\u001b[0m Trial 18 finished with value: 0.6643221373065314 and parameters: {'learning_rate': 0.07348268556699503, 'max_depth': 8, 'n_estimators': 1406, 'min_child_samples': 9, 'l2_leaf_reg': 5.222459679880329, 'colsample_bylevel': 0.20124430113565772}. Best is trial 10 with value: 0.6609594759488793.\u001b[0m\n",
      "\u001b[32m[I 2022-10-06 09:22:42,857]\u001b[0m Trial 19 finished with value: 0.681117461948494 and parameters: {'learning_rate': 0.07196859224094705, 'max_depth': 8, 'n_estimators': 815, 'min_child_samples': 5, 'l2_leaf_reg': 5.777519574312469, 'colsample_bylevel': 0.22135164812027858}. Best is trial 10 with value: 0.6609594759488793.\u001b[0m\n",
      "\u001b[32m[I 2022-10-06 09:22:44,894]\u001b[0m Trial 20 finished with value: 0.6881356367606448 and parameters: {'learning_rate': 0.09800270349811119, 'max_depth': 6, 'n_estimators': 1839, 'min_child_samples': 16, 'l2_leaf_reg': 5.083055204402967, 'colsample_bylevel': 0.9957504266590071}. Best is trial 10 with value: 0.6609594759488793.\u001b[0m\n",
      "\u001b[32m[I 2022-10-06 09:22:46,710]\u001b[0m Trial 21 finished with value: 0.6764909125939247 and parameters: {'learning_rate': 0.053462255608520956, 'max_depth': 8, 'n_estimators': 1321, 'min_child_samples': 9, 'l2_leaf_reg': 1.5937460265724905, 'colsample_bylevel': 0.20402971708326048}. Best is trial 10 with value: 0.6609594759488793.\u001b[0m\n",
      "\u001b[32m[I 2022-10-06 09:22:49,842]\u001b[0m Trial 22 finished with value: 0.6846856335495473 and parameters: {'learning_rate': 0.06695464837343822, 'max_depth': 8, 'n_estimators': 1435, 'min_child_samples': 9, 'l2_leaf_reg': 4.457459077085753, 'colsample_bylevel': 0.3357543693470001}. Best is trial 10 with value: 0.6609594759488793.\u001b[0m\n",
      "\u001b[32m[I 2022-10-06 09:22:51,799]\u001b[0m Trial 23 finished with value: 0.6886699633934878 and parameters: {'learning_rate': 0.0856310149398452, 'max_depth': 7, 'n_estimators': 995, 'min_child_samples': 12, 'l2_leaf_reg': 6.760588236761228, 'colsample_bylevel': 0.5278912609457425}. Best is trial 10 with value: 0.6609594759488793.\u001b[0m\n",
      "\u001b[32m[I 2022-10-06 09:22:54,960]\u001b[0m Trial 24 finished with value: 0.6716305953374864 and parameters: {'learning_rate': 0.05539673272012503, 'max_depth': 8, 'n_estimators': 1605, 'min_child_samples': 9, 'l2_leaf_reg': 3.5303727461871595, 'colsample_bylevel': 0.20146393755890238}. Best is trial 10 with value: 0.6609594759488793.\u001b[0m\n",
      "\u001b[32m[I 2022-10-06 09:22:57,501]\u001b[0m Trial 25 finished with value: 0.6870798278851711 and parameters: {'learning_rate': 0.04633654976336436, 'max_depth': 7, 'n_estimators': 814, 'min_child_samples': 13, 'l2_leaf_reg': 5.469451010921039, 'colsample_bylevel': 0.3290133237106222}. Best is trial 10 with value: 0.6609594759488793.\u001b[0m\n",
      "\u001b[32m[I 2022-10-06 09:22:59,477]\u001b[0m Trial 26 finished with value: 0.6848500417442681 and parameters: {'learning_rate': 0.07415630815455677, 'max_depth': 8, 'n_estimators': 1900, 'min_child_samples': 11, 'l2_leaf_reg': 7.688005701368995, 'colsample_bylevel': 0.16443490444375122}. Best is trial 10 with value: 0.6609594759488793.\u001b[0m\n",
      "\u001b[32m[I 2022-10-06 09:23:01,851]\u001b[0m Trial 27 finished with value: 0.679226767709203 and parameters: {'learning_rate': 0.08663375149251698, 'max_depth': 8, 'n_estimators': 1157, 'min_child_samples': 16, 'l2_leaf_reg': 2.116199599997608, 'colsample_bylevel': 0.10956863888190699}. Best is trial 10 with value: 0.6609594759488793.\u001b[0m\n",
      "\u001b[32m[I 2022-10-06 09:23:03,719]\u001b[0m Trial 28 finished with value: 0.6805317577548005 and parameters: {'learning_rate': 0.06397716717364066, 'max_depth': 7, 'n_estimators': 1439, 'min_child_samples': 8, 'l2_leaf_reg': 1.1275428717722926, 'colsample_bylevel': 0.22734809651825322}. Best is trial 10 with value: 0.6609594759488793.\u001b[0m\n",
      "\u001b[32m[I 2022-10-06 09:23:09,129]\u001b[0m Trial 29 finished with value: 0.6792062166848628 and parameters: {'learning_rate': 0.08138643076978833, 'max_depth': 8, 'n_estimators': 787, 'min_child_samples': 5, 'l2_leaf_reg': 3.7484883329946226, 'colsample_bylevel': 0.48219673802991936}. Best is trial 10 with value: 0.6609594759488793.\u001b[0m\n"
     ]
    },
    {
     "name": "stdout",
     "output_type": "stream",
     "text": [
      "CPU times: user 3min 56s, sys: 57.9 s, total: 4min 54s\n",
      "Wall time: 1min 24s\n"
     ]
    }
   ],
   "source": [
    "%%time\n",
    "study = optuna.create_study(study_name=\"lgb_optimization\",\n",
    "                            direction=\"minimize\",\n",
    "                            sampler=TPESampler())\n",
    "study.optimize(run, n_trials=30)"
   ]
  },
  {
   "cell_type": "code",
   "execution_count": 26,
   "id": "08bd8686",
   "metadata": {
    "execution": {
     "iopub.execute_input": "2022-10-06T09:29:47.637756Z",
     "iopub.status.busy": "2022-10-06T09:29:47.637269Z",
     "iopub.status.idle": "2022-10-06T09:29:47.646375Z",
     "shell.execute_reply": "2022-10-06T09:29:47.645129Z",
     "shell.execute_reply.started": "2022-10-06T09:29:47.637715Z"
    }
   },
   "outputs": [
    {
     "data": {
      "text/plain": [
       "{'learning_rate': 0.05905691073707391,\n",
       " 'max_depth': 8,\n",
       " 'n_estimators': 1177,\n",
       " 'min_child_samples': 11,\n",
       " 'l2_leaf_reg': 0.0212071811733745,\n",
       " 'colsample_bylevel': 0.2328265089038854}"
      ]
     },
     "execution_count": 26,
     "metadata": {},
     "output_type": "execute_result"
    }
   ],
   "source": [
    "study.best_params"
   ]
  },
  {
   "cell_type": "code",
   "execution_count": 27,
   "id": "316f77bf",
   "metadata": {
    "execution": {
     "iopub.execute_input": "2022-10-06T09:30:08.405855Z",
     "iopub.status.busy": "2022-10-06T09:30:08.405413Z",
     "iopub.status.idle": "2022-10-06T09:30:08.411670Z",
     "shell.execute_reply": "2022-10-06T09:30:08.410456Z",
     "shell.execute_reply.started": "2022-10-06T09:30:08.405816Z"
    }
   },
   "outputs": [],
   "source": [
    "cat_params2 = {'learning_rate': 0.05905691073707391,\n",
    " 'max_depth': 8,\n",
    " 'n_estimators': 1177,\n",
    " 'min_child_samples': 11,\n",
    " 'l2_leaf_reg': 0.0212071811733745,\n",
    " 'colsample_bylevel': 0.2328265089038854}"
   ]
  },
  {
   "cell_type": "markdown",
   "id": "636fb79d",
   "metadata": {},
   "source": [
    "Now, we will train our model with the best hyperparameters and make prediction on the test data"
   ]
  },
  {
   "cell_type": "code",
   "execution_count": 28,
   "id": "ffba71e9",
   "metadata": {
    "execution": {
     "iopub.execute_input": "2022-10-06T09:30:11.646650Z",
     "iopub.status.busy": "2022-10-06T09:30:11.646186Z",
     "iopub.status.idle": "2022-10-06T09:30:41.280822Z",
     "shell.execute_reply": "2022-10-06T09:30:41.279200Z",
     "shell.execute_reply.started": "2022-10-06T09:30:11.646608Z"
    }
   },
   "outputs": [
    {
     "name": "stdout",
     "output_type": "stream",
     "text": [
      "0:\ttest: 0.5818599\tbest: 0.5818599 (0)\ttotal: 10.2ms\tremaining: 12s\n",
      "Stopped by overfitting detector  (100 iterations wait)\n",
      "\n",
      "bestTest = 0.6744537923\n",
      "bestIteration = 287\n",
      "\n",
      "Shrink model to first 288 iterations.\n",
      "\n",
      "Fold 1 Val score: 0.6744537923062103\n",
      "\n",
      "0.7902511078286558\n",
      "0.6128293241695304\n",
      "[[237 338]\n",
      " [142 535]]\n",
      "0:\ttest: 0.5984946\tbest: 0.5984946 (0)\ttotal: 9.07ms\tremaining: 10.7s\n",
      "Stopped by overfitting detector  (100 iterations wait)\n",
      "\n",
      "bestTest = 0.6775236016\n",
      "bestIteration = 106\n",
      "\n",
      "Shrink model to first 107 iterations.\n",
      "\n",
      "Fold 2 Val score: 0.6775236015670156\n",
      "\n",
      "0.8463810930576071\n",
      "0.6115261472785486\n",
      "[[211 364]\n",
      " [104 573]]\n",
      "0:\ttest: 0.5769032\tbest: 0.5769032 (0)\ttotal: 9.09ms\tremaining: 10.7s\n",
      "Stopped by overfitting detector  (100 iterations wait)\n",
      "\n",
      "bestTest = 0.6580592126\n",
      "bestIteration = 37\n",
      "\n",
      "Shrink model to first 38 iterations.\n",
      "\n",
      "Fold 3 Val score: 0.65805921263888\n",
      "\n",
      "0.912850812407681\n",
      "0.575955265610438\n",
      "[[120 455]\n",
      " [ 59 618]]\n",
      "0:\ttest: 0.6206705\tbest: 0.6206705 (0)\ttotal: 8.92ms\tremaining: 10.5s\n",
      "Stopped by overfitting detector  (100 iterations wait)\n",
      "\n",
      "bestTest = 0.6980463682\n",
      "bestIteration = 18\n",
      "\n",
      "Shrink model to first 19 iterations.\n",
      "\n",
      "Fold 4 Val score: 0.6980463682486673\n",
      "\n",
      "0.9675036927621861\n",
      "0.5641688199827735\n",
      "[[ 69 506]\n",
      " [ 22 655]]\n",
      "0:\ttest: 0.5551821\tbest: 0.5551821 (0)\ttotal: 8.89ms\tremaining: 10.5s\n",
      "Stopped by overfitting detector  (100 iterations wait)\n",
      "\n",
      "bestTest = 0.6929291632\n",
      "bestIteration = 124\n",
      "\n",
      "Shrink model to first 125 iterations.\n",
      "\n",
      "Fold 5 Val score: 0.6929291631879776\n",
      "\n",
      "0.8522895125553914\n",
      "0.6210979547900969\n",
      "[[223 352]\n",
      " [100 577]]\n",
      "0:\ttest: 0.6171151\tbest: 0.6171151 (0)\ttotal: 9.39ms\tremaining: 11s\n",
      "Stopped by overfitting detector  (100 iterations wait)\n",
      "\n",
      "bestTest = 0.6946143472\n",
      "bestIteration = 143\n",
      "\n",
      "Shrink model to first 144 iterations.\n",
      "\n",
      "Fold 6 Val score: 0.6946143471838675\n",
      "\n",
      "0.8522895125553914\n",
      "0.6092925026399155\n",
      "[[205 370]\n",
      " [100 577]]\n",
      "0:\ttest: 0.6050013\tbest: 0.6050013 (0)\ttotal: 9.18ms\tremaining: 10.8s\n",
      "Stopped by overfitting detector  (100 iterations wait)\n",
      "\n",
      "bestTest = 0.7001980962\n",
      "bestIteration = 101\n",
      "\n",
      "Shrink model to first 102 iterations.\n",
      "\n",
      "Fold 7 Val score: 0.7001980962181631\n",
      "\n",
      "0.8476331360946746\n",
      "0.5962539021852237\n",
      "[[187 388]\n",
      " [103 573]]\n",
      "0:\ttest: 0.5788179\tbest: 0.5788179 (0)\ttotal: 8.94ms\tremaining: 10.5s\n",
      "Stopped by overfitting detector  (100 iterations wait)\n",
      "\n",
      "bestTest = 0.6700231541\n",
      "bestIteration = 292\n",
      "\n",
      "Shrink model to first 293 iterations.\n",
      "\n",
      "Fold 8 Val score: 0.6700231541034216\n",
      "\n",
      "0.772189349112426\n",
      "0.6098130841121495\n",
      "[[241 334]\n",
      " [154 522]]\n",
      "0:\ttest: 0.5850978\tbest: 0.5850978 (0)\ttotal: 9.05ms\tremaining: 10.6s\n",
      "Stopped by overfitting detector  (100 iterations wait)\n",
      "\n",
      "bestTest = 0.687170054\n",
      "bestIteration = 233\n",
      "\n",
      "Shrink model to first 234 iterations.\n",
      "\n",
      "Fold 9 Val score: 0.6871700540262413\n",
      "\n",
      "0.8106508875739645\n",
      "0.618510158013544\n",
      "[[237 338]\n",
      " [128 548]]\n",
      "0:\ttest: 0.5766787\tbest: 0.5766787 (0)\ttotal: 8.22ms\tremaining: 9.66s\n",
      "400:\ttest: 0.6788963\tbest: 0.6801544 (383)\ttotal: 4.07s\tremaining: 7.88s\n",
      "Stopped by overfitting detector  (100 iterations wait)\n",
      "\n",
      "bestTest = 0.6837200926\n",
      "bestIteration = 442\n",
      "\n",
      "Shrink model to first 443 iterations.\n",
      "\n",
      "Fold 10 Val score: 0.6837200926164138\n",
      "\n",
      "0.7914201183431953\n",
      "0.6192129629629629\n",
      "[[246 329]\n",
      " [141 535]]\n",
      "\n",
      "OOF AUC score is : 0.6788995103394209\n",
      "CPU times: user 1min 16s, sys: 24 s, total: 1min 40s\n",
      "Wall time: 29.6 s\n"
     ]
    }
   ],
   "source": [
    "%%time\n",
    "folds = StratifiedKFold(n_splits=10, shuffle=True, random_state=1235)\n",
    "oofs = np.zeros((len(X)))\n",
    "preds = np.zeros((len(test)))\n",
    "\n",
    "for fold_, (trn_idx, val_idx) in enumerate(folds.split(X, y)):\n",
    "    \n",
    "    X_trn, y_trn = X.iloc[trn_idx], y.iloc[trn_idx]\n",
    "    X_val, y_val = X.iloc[val_idx], y.iloc[val_idx]\n",
    "    \n",
    "    \n",
    "    clf = CatBoostClassifier(**cat_params2, eval_metric='AUC')\n",
    "    clf.fit(X_trn, y_trn, eval_set = [(X_val, y_val)],verbose=400, early_stopping_rounds=100)\n",
    "    \n",
    "    vp = clf.predict_proba(X_val)[:,1]\n",
    "    b = pd.DataFrame(vp)\n",
    "    b[0] = np.where(b[0]>0.45, 1, 0)\n",
    "    val_score = roc_auc_score((y_val), (vp))\n",
    "    \n",
    "    print(f'\\nFold {fold_+1} Val score: {val_score}\\n')\n",
    "    \n",
    "    print(recall_score((y_val), (b[0])))\n",
    "    \n",
    "    print(precision_score((y_val), (b[0])))\n",
    "    \n",
    "    print(confusion_matrix((y_val), (b[0])))\n",
    "    \n",
    "    tp = clf.predict_proba(test)[:,1]\n",
    "    \n",
    "    oofs[val_idx] = vp\n",
    "    preds += tp/10\n",
    "\n",
    "a = pd.DataFrame(oofs)\n",
    "a[0] = np.where(a[0]>0.25, 1, 0)\n",
    "oof_score = roc_auc_score((y), (oofs))\n",
    "print(f'\\nOOF AUC score is : {oof_score}')"
   ]
  },
  {
   "cell_type": "code",
   "execution_count": 29,
   "id": "34b0866b",
   "metadata": {
    "execution": {
     "iopub.execute_input": "2022-10-06T09:31:18.861846Z",
     "iopub.status.busy": "2022-10-06T09:31:18.861394Z",
     "iopub.status.idle": "2022-10-06T09:31:19.326978Z",
     "shell.execute_reply": "2022-10-06T09:31:19.325639Z",
     "shell.execute_reply.started": "2022-10-06T09:31:18.861813Z"
    }
   },
   "outputs": [
    {
     "data": {
      "image/png": "[encoded data removed]",
      "text/plain": [
       "<Figure size 1440x720 with 1 Axes>"
      ]
     },
     "metadata": {
      "needs_background": "light"
     },
     "output_type": "display_data"
    }
   ],
   "source": [
    "fea_imp = pd.DataFrame({'imp':clf.feature_importances_, 'col': X.columns})\n",
    "fea_imp = fea_imp.sort_values(['imp', 'col'], ascending=[True, False]).iloc[-20:]\n",
    "_ = fea_imp.plot(kind='barh', x='col', y='imp', figsize=(20, 10))"
   ]
  },
  {
   "cell_type": "markdown",
   "id": "ee20c57d",
   "metadata": {},
   "source": [
    "From the result, it is evident that our assumption is right, 'amount_requested' has the most effect on the model"
   ]
  },
  {
   "cell_type": "markdown",
   "id": "ca2ac3c1",
   "metadata": {},
   "source": [
    "### Saving the result"
   ]
  },
  {
   "cell_type": "code",
   "execution_count": 21,
   "id": "4f3b64a3",
   "metadata": {},
   "outputs": [
    {
     "data": {
      "text/html": [
       "<div>\n",
       "<style scoped>\n",
       "    .dataframe tbody tr th:only-of-type {\n",
       "        vertical-align: middle;\n",
       "    }\n",
       "\n",
       "    .dataframe tbody tr th {\n",
       "        vertical-align: top;\n",
       "    }\n",
       "\n",
       "    .dataframe thead th {\n",
       "        text-align: right;\n",
       "    }\n",
       "</style>\n",
       "<table border=\"1\" class=\"dataframe\">\n",
       "  <thead>\n",
       "    <tr style=\"text-align: right;\">\n",
       "      <th></th>\n",
       "      <th>Entry_id</th>\n",
       "      <th>e_signed</th>\n",
       "    </tr>\n",
       "  </thead>\n",
       "  <tbody>\n",
       "    <tr>\n",
       "      <th>0</th>\n",
       "      <td>3560428</td>\n",
       "      <td>0.472098</td>\n",
       "    </tr>\n",
       "    <tr>\n",
       "      <th>1</th>\n",
       "      <td>6934997</td>\n",
       "      <td>0.571992</td>\n",
       "    </tr>\n",
       "    <tr>\n",
       "      <th>2</th>\n",
       "      <td>5682812</td>\n",
       "      <td>0.482841</td>\n",
       "    </tr>\n",
       "    <tr>\n",
       "      <th>3</th>\n",
       "      <td>6493191</td>\n",
       "      <td>0.556793</td>\n",
       "    </tr>\n",
       "    <tr>\n",
       "      <th>4</th>\n",
       "      <td>8990111</td>\n",
       "      <td>0.533970</td>\n",
       "    </tr>\n",
       "  </tbody>\n",
       "</table>\n",
       "</div>"
      ],
      "text/plain": [
       "   Entry_id  e_signed\n",
       "0   3560428  0.472098\n",
       "1   6934997  0.571992\n",
       "2   5682812  0.482841\n",
       "3   6493191  0.556793\n",
       "4   8990111  0.533970"
      ]
     },
     "execution_count": 21,
     "metadata": {},
     "output_type": "execute_result"
    }
   ],
   "source": [
    "final = {'Entry_id':df_test['Entry_id'], 'e_signed':preds}\n",
    "\n",
    "final_sub = pd.DataFrame(final)\n",
    "final_sub.head()"
   ]
  },
  {
   "cell_type": "code",
   "execution_count": 24,
   "id": "7a37d645",
   "metadata": {},
   "outputs": [],
   "source": [
    "# We will save the result in a csv file called DTS_TEAM_Hackathon\n",
    "final_sub.to_csv('DTS_TEAM_Hackathon.csv', index=False)"
   ]
  },
  {
   "cell_type": "code",
   "execution_count": null,
   "id": "f2fae91b",
   "metadata": {},
   "outputs": [],
   "source": []
  }
 ],
 "metadata": {
  "kernelspec": {
   "display_name": "Python 3 (ipykernel)",
   "language": "python",
   "name": "python3"
  },
  "language_info": {
   "codemirror_mode": {
    "name": "ipython",
    "version": 3
   },
   "file_extension": ".py",
   "mimetype": "text/x-python",
   "name": "python",
   "nbconvert_exporter": "python",
   "pygments_lexer": "ipython3",
   "version": "3.9.12"
  }
 },
 "nbformat": 4,
 "nbformat_minor": 5
}
